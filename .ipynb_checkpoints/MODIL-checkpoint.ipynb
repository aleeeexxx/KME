{
 "cells": [
  {
   "cell_type": "code",
   "execution_count": 2,
   "id": "62c94c67",
   "metadata": {},
   "outputs": [],
   "source": [
    "import os\n",
    "from types import FunctionType\n",
    "import numpy as np\n",
    "import pandas as pd\n",
    "import scipy.linalg\n",
    "from scipy.optimize import LinearConstraint\n",
    "from scipy.optimize import least_squares\n",
    "import matplotlib.pyplot as plt"
   ]
  },
  {
   "cell_type": "code",
   "execution_count": 19,
   "id": "f41b9c5d",
   "metadata": {},
   "outputs": [],
   "source": [
    "def get_gt(n_traj=10,n_state=3,len=10):\n",
    "    p_gt = np.random.rand(n_state,n_state)       \n",
    "    p_gt = (p_gt.T/p_gt.sum(axis=1)).T\n",
    "    p_gt = np.where(np.isnan(p_gt), 0, p_gt)\n",
    "\n",
    "    p = np.zeros([n_state,n_state])\n",
    "    for i in range(n_state):\n",
    "        for j in range(n_state):\n",
    "            if j == 0:\n",
    "                p[i,j] = p_gt[i,j]\n",
    "            else:\n",
    "                p[i,j] = p[i,j-1] + p_gt[i,j]\n",
    "\n",
    "    # initial state\n",
    "    traj = np.zeros([n_traj,len])\n",
    "    for k in range(n_traj):\n",
    "        s = np.random.randint(n_state)\n",
    "        traj[k,0] = s + 1\n",
    "        for i in range(1,len):      \n",
    "            # print(\"p[k]\", p[k])\n",
    "            s = get_next_state(s,p)\n",
    "            traj[k,i] = s + 1\n",
    "            # if s != 0:\n",
    "            #     counter += 1\n",
    "    #         print(counter)\n",
    "    return traj , p_gt\n",
    "\n",
    "def get_mdp_gt(n_traj=10,n_state=3,n_action=3,len=10):\n",
    "    p_gt = np.random.rand(n_state,n_state*n_action)       \n",
    "    p_gt = (p_gt.T/p_gt.sum(axis=1)).T\n",
    "    p_gt = np.where(np.isnan(p_gt), 0, p_gt)\n",
    "\n",
    "    p = np.zeros([n_state,n_state])\n",
    "    for i in range(n_state):\n",
    "        for j in range(n_state):\n",
    "            if j == 0:\n",
    "                p[i,j] = p_gt[i,j]\n",
    "            else:\n",
    "                p[i,j] = p[i,j-1] + p_gt[i,j]\n",
    "\n",
    "    # initial state\n",
    "    traj = np.zeros([n_traj,len,2])\n",
    "    for k in range(n_traj):\n",
    "        s = np.random.randint(n_state)\n",
    "        a = np.random.randint(n_action)\n",
    "        traj[k,0] = [s + 1, a]\n",
    "        for i in range(1,len):      \n",
    "            # print(\"p[k]\", p[k])\n",
    "            s = get_next_mdp_state(s,a,p)\n",
    "            traj[k,i] = [s + 1,a]\n",
    "            # if s != 0:\n",
    "            #     counter += 1\n",
    "    #         print(counter)\n",
    "    return traj , p_gt\n",
    "\n",
    "def get_p_k(n_traj=3,n_state=3,good_p_k=np.zeros([1,3,3]) ):\n",
    "    n_good = len(good_p_k)\n",
    "    print(\"n_good\",n_good)\n",
    "#     p = np.zeros([n_traj,n_state,n_state])\n",
    "#   p: cdf   p_k:pdf\n",
    "    p = np.zeros([n_traj+n_good,n_state,n_state])   \n",
    "    print(\"n_traj+n_good\",n_traj+n_good)\n",
    "#     p_k = np.random.rand(n_traj+n_good,n_state,n_state)\n",
    "    for k in range(n_traj):\n",
    "        for i in range(n_state):\n",
    "            for j in range(n_state):\n",
    "                temp = np.random.rand()\n",
    "                if temp > 0.5:\n",
    "                    p_k[k,i,j] = 1\n",
    "                else:\n",
    "                    p_k[k,i,j] = 0\n",
    "                if j == 0:\n",
    "                    p[k,i,j] = p_k[k,i,j]\n",
    "                else:\n",
    "                    p[k,i,j] = p[k,i,j-1] + p_k[k,i,j]\n",
    "            p[k,i,:] = p[k,i,:] / p[k,i,n_state-1] \n",
    "        p_k[k] = (p_k[k].T/p_k[k].sum(axis=1)).T\n",
    "        p[k] = np.where(np.isnan(p_k[k]), 0, p_k[k])\n",
    "        # print(\"p_gt\",p_gt[k])\n",
    "    p_k[-n_good:] = good_p_k\n",
    "    print(\"len(p_k)\",len(p_k))\n",
    "    return  p_k\n",
    "\n",
    "def get_next_state(i,p):\n",
    "    prob = np.random.rand()\n",
    "    for j in range(len(p)):\n",
    "        # print(\"p[i,j]\",p[i,j])\n",
    "        if prob < p[i,j]:\n",
    "            return j\n",
    "    return j\n",
    "\n",
    "def get_next_mdp_state(i,a,p):\n",
    "    prob = np.random.rand()\n",
    "    for j in range(len(p)):\n",
    "        # print(\"p[i,j]\",p[i,j])\n",
    "        print((j-1)*3+a-1)\n",
    "        if prob < p[i,(j-1)*3+a-1]:\n",
    "            return j\n",
    "    return j\n",
    "\n",
    "def get_p_bar(traj, n_state):\n",
    "    # total = (len(traj[0])-1)\n",
    "    p_bar = np.zeros([n_state,n_state])\n",
    "    # print(\"traj[0]\",len(traj))\n",
    "    # print(\"traj[1]\",len(traj[1]))\n",
    "    for k in range(len(traj)):\n",
    "        for i in range(len(traj[1])-1):\n",
    "            p_bar[int(traj[k,i])-1,int(traj[k,i+1])-1] += 1\n",
    "    p_bar = (p_bar.T/p_bar.sum(axis=1)).T\n",
    "    p_bar = np.where(np.isnan(p_bar), 0, p_bar)\n",
    "    return p_bar\n",
    "\n",
    "def get_alpha(p_bar,p_k):\n",
    "    n = len(p_k)\n",
    "    # print(\"n\",n)\n",
    "    x0 = np.array([1/n]*n)\n",
    "    # print(\"x0\",x0)\n",
    "    res = least_squares(fun, x0, bounds=(0, 1),args=(p_bar, p_k), verbose=1)\n",
    "    alpha = res.x/sum(res.x)\n",
    "    return alpha\n",
    "\n",
    "def model(x, p_k):\n",
    "    sum = 0\n",
    "    for i in range(len(x)):\n",
    "        sum += p_k[i]*x[i]\n",
    "    return sum\n",
    "\n",
    "def fun(x,p_bar,p_k):\n",
    "    return sum((model(x, p_k) - p_bar)**2)\n",
    "\n",
    "def get_p_hat(alpha,p_k):\n",
    "    sum = 0\n",
    "    for i in range(len(alpha)):\n",
    "        sum += p_k[i]*alpha[i]\n",
    "    return sum\n",
    "\n",
    "def get_error(p_hat,Frobenius_gt):\n",
    "    delta = p_hat - p_gt\n",
    "#     print(\"delta\",delta)\n",
    "    Frobenius_delta = np.linalg.norm(delta)\n",
    "    \n",
    "#     print(\"Frobenius_gt\",Frobenius_gt)\n",
    "    error = Frobenius_delta/Frobenius_gt\n",
    "    \n",
    "    return error\n"
   ]
  },
  {
   "cell_type": "code",
   "execution_count": 8,
   "id": "142eb4ff",
   "metadata": {
    "scrolled": true
   },
   "outputs": [
    {
     "name": "stdout",
     "output_type": "stream",
     "text": [
      "p_gt [[0.2855788  0.34445257 0.01583821 0.15595936 0.19817106]\n",
      " [0.07456254 0.59324259 0.04204842 0.19268052 0.09746592]\n",
      " [0.05816867 0.47405355 0.06400911 0.20190529 0.20186338]\n",
      " [0.17336635 0.18951019 0.12693766 0.24766985 0.26251595]\n",
      " [0.02090649 0.26656046 0.3312915  0.33869999 0.04254157]]\n",
      "Frobenius_gt 1.2221996166142501\n"
     ]
    }
   ],
   "source": [
    "# num of states\n",
    "n = 5\n",
    "\n",
    "traj, p_gt = get_gt(n_traj=1000,n_state=n,len=3000)\n",
    "print(\"p_gt\",p_gt)\n",
    "Frobenius_gt = np.linalg.norm(p_gt)\n",
    "print(\"Frobenius_gt\",Frobenius_gt)\n",
    "p_bar = get_p_bar(traj, n_state=n) \n"
   ]
  },
  {
   "cell_type": "code",
   "execution_count": 20,
   "id": "a2b99682",
   "metadata": {
    "scrolled": false
   },
   "outputs": [
    {
     "name": "stdout",
     "output_type": "stream",
     "text": [
      "n_good 1\n",
      "n_traj+n_good 4\n",
      "301\n"
     ]
    },
    {
     "ename": "ValueError",
     "evalue": "Residuals are not finite in the initial point.",
     "output_type": "error",
     "traceback": [
      "\u001b[1;31m---------------------------------------------------------------------------\u001b[0m",
      "\u001b[1;31mValueError\u001b[0m                                Traceback (most recent call last)",
      "\u001b[1;32m~\\AppData\\Local\\Temp/ipykernel_17356/213481300.py\u001b[0m in \u001b[0;36m<module>\u001b[1;34m\u001b[0m\n\u001b[0;32m      8\u001b[0m     \u001b[0mp_k\u001b[0m \u001b[1;33m=\u001b[0m \u001b[0mget_p_k\u001b[0m\u001b[1;33m(\u001b[0m\u001b[0mn_traj\u001b[0m\u001b[1;33m=\u001b[0m\u001b[0mk\u001b[0m\u001b[1;33m,\u001b[0m\u001b[0mn_state\u001b[0m\u001b[1;33m=\u001b[0m\u001b[0mn\u001b[0m\u001b[1;33m,\u001b[0m\u001b[0mgood_p_k\u001b[0m\u001b[1;33m=\u001b[0m\u001b[0mgood_p_k\u001b[0m\u001b[1;33m)\u001b[0m\u001b[1;33m\u001b[0m\u001b[1;33m\u001b[0m\u001b[0m\n\u001b[0;32m      9\u001b[0m     \u001b[0mprint\u001b[0m\u001b[1;33m(\u001b[0m\u001b[0mlen\u001b[0m\u001b[1;33m(\u001b[0m\u001b[0mp_k\u001b[0m\u001b[1;33m)\u001b[0m\u001b[1;33m)\u001b[0m\u001b[1;33m\u001b[0m\u001b[1;33m\u001b[0m\u001b[0m\n\u001b[1;32m---> 10\u001b[1;33m     \u001b[0malpha\u001b[0m \u001b[1;33m=\u001b[0m \u001b[0mget_alpha\u001b[0m\u001b[1;33m(\u001b[0m\u001b[0mp_bar\u001b[0m\u001b[1;33m,\u001b[0m\u001b[0mp_k\u001b[0m\u001b[1;33m)\u001b[0m\u001b[1;33m\u001b[0m\u001b[1;33m\u001b[0m\u001b[0m\n\u001b[0m\u001b[0;32m     11\u001b[0m \u001b[1;31m#     good_alpha = np.alpha(alpha > 0.03)\u001b[0m\u001b[1;33m\u001b[0m\u001b[1;33m\u001b[0m\u001b[0m\n\u001b[0;32m     12\u001b[0m \u001b[1;31m#     good_p_k = p_k[alpha > 0.03]\u001b[0m\u001b[1;33m\u001b[0m\u001b[1;33m\u001b[0m\u001b[0m\n",
      "\u001b[1;32m~\\AppData\\Local\\Temp/ipykernel_17356/2533739493.py\u001b[0m in \u001b[0;36mget_alpha\u001b[1;34m(p_bar, p_k)\u001b[0m\n\u001b[0;32m    115\u001b[0m     \u001b[0mx0\u001b[0m \u001b[1;33m=\u001b[0m \u001b[0mnp\u001b[0m\u001b[1;33m.\u001b[0m\u001b[0marray\u001b[0m\u001b[1;33m(\u001b[0m\u001b[1;33m[\u001b[0m\u001b[1;36m1\u001b[0m\u001b[1;33m/\u001b[0m\u001b[0mn\u001b[0m\u001b[1;33m]\u001b[0m\u001b[1;33m*\u001b[0m\u001b[0mn\u001b[0m\u001b[1;33m)\u001b[0m\u001b[1;33m\u001b[0m\u001b[1;33m\u001b[0m\u001b[0m\n\u001b[0;32m    116\u001b[0m     \u001b[1;31m# print(\"x0\",x0)\u001b[0m\u001b[1;33m\u001b[0m\u001b[1;33m\u001b[0m\u001b[0m\n\u001b[1;32m--> 117\u001b[1;33m     \u001b[0mres\u001b[0m \u001b[1;33m=\u001b[0m \u001b[0mleast_squares\u001b[0m\u001b[1;33m(\u001b[0m\u001b[0mfun\u001b[0m\u001b[1;33m,\u001b[0m \u001b[0mx0\u001b[0m\u001b[1;33m,\u001b[0m \u001b[0mbounds\u001b[0m\u001b[1;33m=\u001b[0m\u001b[1;33m(\u001b[0m\u001b[1;36m0\u001b[0m\u001b[1;33m,\u001b[0m \u001b[1;36m1\u001b[0m\u001b[1;33m)\u001b[0m\u001b[1;33m,\u001b[0m\u001b[0margs\u001b[0m\u001b[1;33m=\u001b[0m\u001b[1;33m(\u001b[0m\u001b[0mp_bar\u001b[0m\u001b[1;33m,\u001b[0m \u001b[0mp_k\u001b[0m\u001b[1;33m)\u001b[0m\u001b[1;33m,\u001b[0m \u001b[0mverbose\u001b[0m\u001b[1;33m=\u001b[0m\u001b[1;36m1\u001b[0m\u001b[1;33m)\u001b[0m\u001b[1;33m\u001b[0m\u001b[1;33m\u001b[0m\u001b[0m\n\u001b[0m\u001b[0;32m    118\u001b[0m     \u001b[0malpha\u001b[0m \u001b[1;33m=\u001b[0m \u001b[0mres\u001b[0m\u001b[1;33m.\u001b[0m\u001b[0mx\u001b[0m\u001b[1;33m/\u001b[0m\u001b[0msum\u001b[0m\u001b[1;33m(\u001b[0m\u001b[0mres\u001b[0m\u001b[1;33m.\u001b[0m\u001b[0mx\u001b[0m\u001b[1;33m)\u001b[0m\u001b[1;33m\u001b[0m\u001b[1;33m\u001b[0m\u001b[0m\n\u001b[0;32m    119\u001b[0m     \u001b[1;32mreturn\u001b[0m \u001b[0malpha\u001b[0m\u001b[1;33m\u001b[0m\u001b[1;33m\u001b[0m\u001b[0m\n",
      "\u001b[1;32m~\\anaconda3\\lib\\site-packages\\scipy\\optimize\\_lsq\\least_squares.py\u001b[0m in \u001b[0;36mleast_squares\u001b[1;34m(fun, x0, jac, bounds, method, ftol, xtol, gtol, x_scale, loss, f_scale, diff_step, tr_solver, tr_options, jac_sparsity, max_nfev, verbose, args, kwargs)\u001b[0m\n\u001b[0;32m    825\u001b[0m \u001b[1;33m\u001b[0m\u001b[0m\n\u001b[0;32m    826\u001b[0m     \u001b[1;32mif\u001b[0m \u001b[1;32mnot\u001b[0m \u001b[0mnp\u001b[0m\u001b[1;33m.\u001b[0m\u001b[0mall\u001b[0m\u001b[1;33m(\u001b[0m\u001b[0mnp\u001b[0m\u001b[1;33m.\u001b[0m\u001b[0misfinite\u001b[0m\u001b[1;33m(\u001b[0m\u001b[0mf0\u001b[0m\u001b[1;33m)\u001b[0m\u001b[1;33m)\u001b[0m\u001b[1;33m:\u001b[0m\u001b[1;33m\u001b[0m\u001b[1;33m\u001b[0m\u001b[0m\n\u001b[1;32m--> 827\u001b[1;33m         \u001b[1;32mraise\u001b[0m \u001b[0mValueError\u001b[0m\u001b[1;33m(\u001b[0m\u001b[1;34m\"Residuals are not finite in the initial point.\"\u001b[0m\u001b[1;33m)\u001b[0m\u001b[1;33m\u001b[0m\u001b[1;33m\u001b[0m\u001b[0m\n\u001b[0m\u001b[0;32m    828\u001b[0m \u001b[1;33m\u001b[0m\u001b[0m\n\u001b[0;32m    829\u001b[0m     \u001b[0mn\u001b[0m \u001b[1;33m=\u001b[0m \u001b[0mx0\u001b[0m\u001b[1;33m.\u001b[0m\u001b[0msize\u001b[0m\u001b[1;33m\u001b[0m\u001b[1;33m\u001b[0m\u001b[0m\n",
      "\u001b[1;31mValueError\u001b[0m: Residuals are not finite in the initial point."
     ]
    }
   ],
   "source": [
    "# k_list = np.linspace(50, 200, 5, dtype=int,endpoint=True)\n",
    "# k_list = [5,50,100,150,200,250,300]\n",
    "# k_list = [50,50,50,50,50,50,50,50,50,50,50,50]\n",
    "k_list = [3]\n",
    "error_list = []\n",
    "good_p_k = np.zeros([1,n,n])  \n",
    "for k in k_list:\n",
    "    p_k = get_p_k(n_traj=k,n_state=n,good_p_k=good_p_k)\n",
    "    print(len(p_k))\n",
    "    alpha = get_alpha(p_bar,p_k)\n",
    "#     good_alpha = np.alpha(alpha > 0.03)\n",
    "#     good_p_k = p_k[alpha > 0.03]\n",
    "#     print(\"good_p_k\",good_p_k)\n",
    "    p_hat = get_p_hat(alpha,p_k)\n",
    "    error = get_error(p_hat,Frobenius_gt)\n",
    "    print(\"error\",error)\n",
    "    error_list.append(error)\n",
    "    \n",
    "    # sort and print alpha\n",
    "    sorted_alpha = np.sort(alpha)[::-1]\n",
    "    plt.plot(sorted_alpha)\n",
    "    plt.ylabel(\"alpha\")\n",
    "    plt.title(\"K = %i \" % k)\n",
    "    plt.show()\n",
    "    \n",
    "print(\"error_list\",error_list)\n"
   ]
  },
  {
   "cell_type": "code",
   "execution_count": 14,
   "id": "6edddd41",
   "metadata": {},
   "outputs": [
    {
     "ename": "ValueError",
     "evalue": "x and y must have same first dimension, but have shapes (1,) and (0,)",
     "output_type": "error",
     "traceback": [
      "\u001b[1;31m---------------------------------------------------------------------------\u001b[0m",
      "\u001b[1;31mValueError\u001b[0m                                Traceback (most recent call last)",
      "\u001b[1;32m~\\AppData\\Local\\Temp/ipykernel_17356/1084331738.py\u001b[0m in \u001b[0;36m<module>\u001b[1;34m\u001b[0m\n\u001b[1;32m----> 1\u001b[1;33m \u001b[0mplt\u001b[0m\u001b[1;33m.\u001b[0m\u001b[0mplot\u001b[0m\u001b[1;33m(\u001b[0m\u001b[0mk_list\u001b[0m\u001b[1;33m,\u001b[0m\u001b[0merror_list\u001b[0m\u001b[1;33m)\u001b[0m\u001b[1;33m\u001b[0m\u001b[1;33m\u001b[0m\u001b[0m\n\u001b[0m\u001b[0;32m      2\u001b[0m \u001b[0mplt\u001b[0m\u001b[1;33m.\u001b[0m\u001b[0mxlabel\u001b[0m\u001b[1;33m(\u001b[0m\u001b[1;34m\"K\"\u001b[0m\u001b[1;33m)\u001b[0m\u001b[1;33m\u001b[0m\u001b[1;33m\u001b[0m\u001b[0m\n\u001b[0;32m      3\u001b[0m \u001b[0mplt\u001b[0m\u001b[1;33m.\u001b[0m\u001b[0mylabel\u001b[0m\u001b[1;33m(\u001b[0m\u001b[1;34m\"error\"\u001b[0m\u001b[1;33m)\u001b[0m\u001b[1;33m\u001b[0m\u001b[1;33m\u001b[0m\u001b[0m\n\u001b[0;32m      4\u001b[0m \u001b[0mplt\u001b[0m\u001b[1;33m.\u001b[0m\u001b[0mtitle\u001b[0m\u001b[1;33m(\u001b[0m\u001b[1;34m\"%i states \"\u001b[0m \u001b[1;33m%\u001b[0m \u001b[0mn\u001b[0m\u001b[1;33m)\u001b[0m\u001b[1;33m\u001b[0m\u001b[1;33m\u001b[0m\u001b[0m\n\u001b[0;32m      5\u001b[0m \u001b[0mplt\u001b[0m\u001b[1;33m.\u001b[0m\u001b[0mshow\u001b[0m\u001b[1;33m(\u001b[0m\u001b[1;33m)\u001b[0m\u001b[1;33m\u001b[0m\u001b[1;33m\u001b[0m\u001b[0m\n",
      "\u001b[1;32m~\\anaconda3\\lib\\site-packages\\matplotlib\\pyplot.py\u001b[0m in \u001b[0;36mplot\u001b[1;34m(scalex, scaley, data, *args, **kwargs)\u001b[0m\n\u001b[0;32m   3017\u001b[0m \u001b[1;33m@\u001b[0m\u001b[0m_copy_docstring_and_deprecators\u001b[0m\u001b[1;33m(\u001b[0m\u001b[0mAxes\u001b[0m\u001b[1;33m.\u001b[0m\u001b[0mplot\u001b[0m\u001b[1;33m)\u001b[0m\u001b[1;33m\u001b[0m\u001b[1;33m\u001b[0m\u001b[0m\n\u001b[0;32m   3018\u001b[0m \u001b[1;32mdef\u001b[0m \u001b[0mplot\u001b[0m\u001b[1;33m(\u001b[0m\u001b[1;33m*\u001b[0m\u001b[0margs\u001b[0m\u001b[1;33m,\u001b[0m \u001b[0mscalex\u001b[0m\u001b[1;33m=\u001b[0m\u001b[1;32mTrue\u001b[0m\u001b[1;33m,\u001b[0m \u001b[0mscaley\u001b[0m\u001b[1;33m=\u001b[0m\u001b[1;32mTrue\u001b[0m\u001b[1;33m,\u001b[0m \u001b[0mdata\u001b[0m\u001b[1;33m=\u001b[0m\u001b[1;32mNone\u001b[0m\u001b[1;33m,\u001b[0m \u001b[1;33m**\u001b[0m\u001b[0mkwargs\u001b[0m\u001b[1;33m)\u001b[0m\u001b[1;33m:\u001b[0m\u001b[1;33m\u001b[0m\u001b[1;33m\u001b[0m\u001b[0m\n\u001b[1;32m-> 3019\u001b[1;33m     return gca().plot(\n\u001b[0m\u001b[0;32m   3020\u001b[0m         \u001b[1;33m*\u001b[0m\u001b[0margs\u001b[0m\u001b[1;33m,\u001b[0m \u001b[0mscalex\u001b[0m\u001b[1;33m=\u001b[0m\u001b[0mscalex\u001b[0m\u001b[1;33m,\u001b[0m \u001b[0mscaley\u001b[0m\u001b[1;33m=\u001b[0m\u001b[0mscaley\u001b[0m\u001b[1;33m,\u001b[0m\u001b[1;33m\u001b[0m\u001b[1;33m\u001b[0m\u001b[0m\n\u001b[0;32m   3021\u001b[0m         **({\"data\": data} if data is not None else {}), **kwargs)\n",
      "\u001b[1;32m~\\anaconda3\\lib\\site-packages\\matplotlib\\axes\\_axes.py\u001b[0m in \u001b[0;36mplot\u001b[1;34m(self, scalex, scaley, data, *args, **kwargs)\u001b[0m\n\u001b[0;32m   1603\u001b[0m         \"\"\"\n\u001b[0;32m   1604\u001b[0m         \u001b[0mkwargs\u001b[0m \u001b[1;33m=\u001b[0m \u001b[0mcbook\u001b[0m\u001b[1;33m.\u001b[0m\u001b[0mnormalize_kwargs\u001b[0m\u001b[1;33m(\u001b[0m\u001b[0mkwargs\u001b[0m\u001b[1;33m,\u001b[0m \u001b[0mmlines\u001b[0m\u001b[1;33m.\u001b[0m\u001b[0mLine2D\u001b[0m\u001b[1;33m)\u001b[0m\u001b[1;33m\u001b[0m\u001b[1;33m\u001b[0m\u001b[0m\n\u001b[1;32m-> 1605\u001b[1;33m         \u001b[0mlines\u001b[0m \u001b[1;33m=\u001b[0m \u001b[1;33m[\u001b[0m\u001b[1;33m*\u001b[0m\u001b[0mself\u001b[0m\u001b[1;33m.\u001b[0m\u001b[0m_get_lines\u001b[0m\u001b[1;33m(\u001b[0m\u001b[1;33m*\u001b[0m\u001b[0margs\u001b[0m\u001b[1;33m,\u001b[0m \u001b[0mdata\u001b[0m\u001b[1;33m=\u001b[0m\u001b[0mdata\u001b[0m\u001b[1;33m,\u001b[0m \u001b[1;33m**\u001b[0m\u001b[0mkwargs\u001b[0m\u001b[1;33m)\u001b[0m\u001b[1;33m]\u001b[0m\u001b[1;33m\u001b[0m\u001b[1;33m\u001b[0m\u001b[0m\n\u001b[0m\u001b[0;32m   1606\u001b[0m         \u001b[1;32mfor\u001b[0m \u001b[0mline\u001b[0m \u001b[1;32min\u001b[0m \u001b[0mlines\u001b[0m\u001b[1;33m:\u001b[0m\u001b[1;33m\u001b[0m\u001b[1;33m\u001b[0m\u001b[0m\n\u001b[0;32m   1607\u001b[0m             \u001b[0mself\u001b[0m\u001b[1;33m.\u001b[0m\u001b[0madd_line\u001b[0m\u001b[1;33m(\u001b[0m\u001b[0mline\u001b[0m\u001b[1;33m)\u001b[0m\u001b[1;33m\u001b[0m\u001b[1;33m\u001b[0m\u001b[0m\n",
      "\u001b[1;32m~\\anaconda3\\lib\\site-packages\\matplotlib\\axes\\_base.py\u001b[0m in \u001b[0;36m__call__\u001b[1;34m(self, data, *args, **kwargs)\u001b[0m\n\u001b[0;32m    313\u001b[0m                 \u001b[0mthis\u001b[0m \u001b[1;33m+=\u001b[0m \u001b[0margs\u001b[0m\u001b[1;33m[\u001b[0m\u001b[1;36m0\u001b[0m\u001b[1;33m]\u001b[0m\u001b[1;33m,\u001b[0m\u001b[1;33m\u001b[0m\u001b[1;33m\u001b[0m\u001b[0m\n\u001b[0;32m    314\u001b[0m                 \u001b[0margs\u001b[0m \u001b[1;33m=\u001b[0m \u001b[0margs\u001b[0m\u001b[1;33m[\u001b[0m\u001b[1;36m1\u001b[0m\u001b[1;33m:\u001b[0m\u001b[1;33m]\u001b[0m\u001b[1;33m\u001b[0m\u001b[1;33m\u001b[0m\u001b[0m\n\u001b[1;32m--> 315\u001b[1;33m             \u001b[1;32myield\u001b[0m \u001b[1;32mfrom\u001b[0m \u001b[0mself\u001b[0m\u001b[1;33m.\u001b[0m\u001b[0m_plot_args\u001b[0m\u001b[1;33m(\u001b[0m\u001b[0mthis\u001b[0m\u001b[1;33m,\u001b[0m \u001b[0mkwargs\u001b[0m\u001b[1;33m)\u001b[0m\u001b[1;33m\u001b[0m\u001b[1;33m\u001b[0m\u001b[0m\n\u001b[0m\u001b[0;32m    316\u001b[0m \u001b[1;33m\u001b[0m\u001b[0m\n\u001b[0;32m    317\u001b[0m     \u001b[1;32mdef\u001b[0m \u001b[0mget_next_color\u001b[0m\u001b[1;33m(\u001b[0m\u001b[0mself\u001b[0m\u001b[1;33m)\u001b[0m\u001b[1;33m:\u001b[0m\u001b[1;33m\u001b[0m\u001b[1;33m\u001b[0m\u001b[0m\n",
      "\u001b[1;32m~\\anaconda3\\lib\\site-packages\\matplotlib\\axes\\_base.py\u001b[0m in \u001b[0;36m_plot_args\u001b[1;34m(self, tup, kwargs, return_kwargs)\u001b[0m\n\u001b[0;32m    499\u001b[0m \u001b[1;33m\u001b[0m\u001b[0m\n\u001b[0;32m    500\u001b[0m         \u001b[1;32mif\u001b[0m \u001b[0mx\u001b[0m\u001b[1;33m.\u001b[0m\u001b[0mshape\u001b[0m\u001b[1;33m[\u001b[0m\u001b[1;36m0\u001b[0m\u001b[1;33m]\u001b[0m \u001b[1;33m!=\u001b[0m \u001b[0my\u001b[0m\u001b[1;33m.\u001b[0m\u001b[0mshape\u001b[0m\u001b[1;33m[\u001b[0m\u001b[1;36m0\u001b[0m\u001b[1;33m]\u001b[0m\u001b[1;33m:\u001b[0m\u001b[1;33m\u001b[0m\u001b[1;33m\u001b[0m\u001b[0m\n\u001b[1;32m--> 501\u001b[1;33m             raise ValueError(f\"x and y must have same first dimension, but \"\n\u001b[0m\u001b[0;32m    502\u001b[0m                              f\"have shapes {x.shape} and {y.shape}\")\n\u001b[0;32m    503\u001b[0m         \u001b[1;32mif\u001b[0m \u001b[0mx\u001b[0m\u001b[1;33m.\u001b[0m\u001b[0mndim\u001b[0m \u001b[1;33m>\u001b[0m \u001b[1;36m2\u001b[0m \u001b[1;32mor\u001b[0m \u001b[0my\u001b[0m\u001b[1;33m.\u001b[0m\u001b[0mndim\u001b[0m \u001b[1;33m>\u001b[0m \u001b[1;36m2\u001b[0m\u001b[1;33m:\u001b[0m\u001b[1;33m\u001b[0m\u001b[1;33m\u001b[0m\u001b[0m\n",
      "\u001b[1;31mValueError\u001b[0m: x and y must have same first dimension, but have shapes (1,) and (0,)"
     ]
    },
    {
     "data": {
      "image/png": "[encoded data removed]",
      "text/plain": [
       "<Figure size 432x288 with 1 Axes>"
      ]
     },
     "metadata": {
      "needs_background": "light"
     },
     "output_type": "display_data"
    }
   ],
   "source": [
    "plt.plot(k_list,error_list)\n",
    "plt.xlabel(\"K\")\n",
    "plt.ylabel(\"error\")\n",
    "plt.title(\"%i states \" % n)\n",
    "plt.show()"
   ]
  },
  {
   "cell_type": "code",
   "execution_count": 6,
   "id": "aa5ffde7",
   "metadata": {},
   "outputs": [
    {
     "name": "stderr",
     "output_type": "stream",
     "text": [
      "C:\\Users\\Liuce\\AppData\\Local\\Temp/ipykernel_16916/1997243371.py:44: RuntimeWarning: invalid value encountered in true_divide\n",
      "  p[k,i,:] = p[k,i,:] / p[k,i,n_state-1]\n",
      "C:\\Users\\Liuce\\AppData\\Local\\Temp/ipykernel_16916/1997243371.py:45: RuntimeWarning: invalid value encountered in true_divide\n",
      "  p_k[k] = (p_k[k].T/p_k[k].sum(axis=1)).T\n"
     ]
    },
    {
     "name": "stdout",
     "output_type": "stream",
     "text": [
      "`gtol` termination condition is satisfied.\n",
      "Function evaluations 274, initial cost 2.4545e-02, final cost 2.0889e-08, first-order optimality 9.87e-09.\n",
      "error 0.0718683714543282\n"
     ]
    }
   ],
   "source": [
    "p_k = get_p_k(n_traj=800,n_state=n)\n",
    "alpha = get_alpha(p_bar,p_k)\n",
    "p_hat = get_p_hat(alpha,p_k)\n",
    "error = get_error(p_hat,Frobenius_gt)\n",
    "print(\"error\",error)"
   ]
  },
  {
   "cell_type": "code",
   "execution_count": null,
   "id": "71eade86",
   "metadata": {},
   "outputs": [],
   "source": []
  }
 ],
 "metadata": {
  "kernelspec": {
   "display_name": "Python 3 (ipykernel)",
   "language": "python",
   "name": "python3"
  },
  "language_info": {
   "codemirror_mode": {
    "name": "ipython",
    "version": 3
   },
   "file_extension": ".py",
   "mimetype": "text/x-python",
   "name": "python",
   "nbconvert_exporter": "python",
   "pygments_lexer": "ipython3",
   "version": "3.9.7"
  }
 },
 "nbformat": 4,
 "nbformat_minor": 5
}
