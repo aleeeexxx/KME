{
 "cells": [
  {
   "cell_type": "code",
   "execution_count": 1,
   "id": "62c94c67",
   "metadata": {},
   "outputs": [],
   "source": [
    "import os\n",
    "from types import FunctionType\n",
    "import numpy as np\n",
    "import pandas as pd\n",
    "import scipy.linalg\n",
    "from scipy.optimize import LinearConstraint\n",
    "from scipy.optimize import least_squares\n",
    "import matplotlib.pyplot as plt\n",
    "# import scipy.linalg.hadamard as hadamard\n"
   ]
  },
  {
   "cell_type": "code",
   "execution_count": 12,
   "id": "f41b9c5d",
   "metadata": {},
   "outputs": [],
   "source": [
    "def get_gt(n_traj=10,n_state=3,len=10):\n",
    "    p_gt = np.random.rand(n_state,n_state)       \n",
    "    p_gt = (p_gt.T/p_gt.sum(axis=1)).T\n",
    "    p_gt = np.where(np.isnan(p_gt), 0, p_gt)\n",
    "\n",
    "    p = np.zeros([n_state,n_state])\n",
    "    for i in range(n_state):\n",
    "        for j in range(n_state):\n",
    "            if j == 0:\n",
    "                p[i,j] = p_gt[i,j]\n",
    "            else:\n",
    "                p[i,j] = p[i,j-1] + p_gt[i,j]\n",
    "\n",
    "    # initial state\n",
    "    traj = np.zeros([n_traj,len])\n",
    "    for k in range(n_traj):\n",
    "        s = np.random.randint(n_state)\n",
    "        traj[k,0] = s + 1\n",
    "        for i in range(1,len):      \n",
    "            # print(\"p[k]\", p[k])\n",
    "            s = get_next_state(s,p)\n",
    "            traj[k,i] = s + 1\n",
    "            # if s != 0:\n",
    "            #     counter += 1\n",
    "    #         print(counter)\n",
    "    return traj , p_gt\n",
    "\n",
    "def get_mdp_gt(n_traj=10,n_state=3,n_action=3,len=10):\n",
    "    p_gt = np.random.rand(n_state,n_state*n_action)       \n",
    "    p_gt = (p_gt.T/p_gt.sum(axis=1)).T\n",
    "    p_gt = np.where(np.isnan(p_gt), 0, p_gt)\n",
    "\n",
    "    p = np.zeros([n_state,n_state])\n",
    "    for i in range(n_state):\n",
    "        for j in range(n_state):\n",
    "            if j == 0:\n",
    "                p[i,j] = p_gt[i,j]\n",
    "            else:\n",
    "                p[i,j] = p[i,j-1] + p_gt[i,j]\n",
    "\n",
    "    # initial state\n",
    "    traj = np.zeros([n_traj,len,2])\n",
    "    for k in range(n_traj):\n",
    "        s = np.random.randint(n_state)\n",
    "        a = np.random.randint(n_action)\n",
    "        traj[k,0] = [s + 1, a]\n",
    "        for i in range(1,len):      \n",
    "            # print(\"p[k]\", p[k])\n",
    "            s = get_next_mdp_state(s,a,p)\n",
    "            traj[k,i] = [s + 1,a]\n",
    "            # if s != 0:\n",
    "            #     counter += 1\n",
    "    #         print(counter)\n",
    "    return traj , p_gt\n",
    "\n",
    "\n",
    "def get_p_k(n_traj=3,n_state=3):\n",
    "    p = np.zeros([n_traj,n_state,n_state])\n",
    "    p_k = np.zeros([n_traj,n_state,n_state])    \n",
    "    for k in range(n_traj):\n",
    "        for i in range(n_state):\n",
    "            for j in range(n_state):\n",
    "                temp = np.random.rand()\n",
    "                if temp > 0.5:\n",
    "                    p_k[k,i,j] = 1\n",
    "                else:\n",
    "                    p_k[k,i,j] = 0\n",
    "                if j == 0:\n",
    "                    p[k,i,j] = p_k[k,i,j]\n",
    "                else:\n",
    "                    p[k,i,j] = p[k,i,j-1] + p_k[k,i,j]\n",
    "            p[k,i,:] = p[k,i,:] / p[k,i,n_state-1] \n",
    "        p_k[k] = (p_k[k].T/p_k[k].sum(axis=1)).T\n",
    "        p_k[k] = np.where(np.isnan(p_k[k]), 0, p_k[k])\n",
    "        # print(\"p_gt\",p_gt[k])\n",
    "    return  p_k\n",
    "\n",
    "def get_next_state(i,p):\n",
    "    prob = np.random.rand()\n",
    "    for j in range(len(p)):\n",
    "        # print(\"p[i,j]\",p[i,j])\n",
    "        if prob < p[i,j]:\n",
    "            return j\n",
    "    return j\n",
    "\n",
    "def get_next_mdp_state(i,a,p):\n",
    "    prob = np.random.rand()\n",
    "    for j in range(len(p)):\n",
    "        # print(\"p[i,j]\",p[i,j])\n",
    "        print((j-1)*3+a-1)\n",
    "        if prob < p[i,(j-1)*3+a-1]:\n",
    "            return j\n",
    "    return j\n",
    "\n",
    "def get_p_bar(traj, n_state):\n",
    "    # total = (len(traj[0])-1)\n",
    "    p_bar = np.zeros([n_state,n_state])\n",
    "    # print(\"traj[0]\",len(traj))\n",
    "    # print(\"traj[1]\",len(traj[1]))\n",
    "    for k in range(len(traj)):\n",
    "        for i in range(len(traj[1])-1):\n",
    "            p_bar[int(traj[k,i])-1,int(traj[k,i+1])-1] += 1\n",
    "    p_bar = (p_bar.T/p_bar.sum(axis=1)).T\n",
    "    p_bar = np.where(np.isnan(p_bar), 0, p_bar)\n",
    "    return p_bar\n",
    "\n",
    "def get_alpha(p_bar,p_k):\n",
    "    n = len(p_k)\n",
    "    # print(\"n\",n)\n",
    "    x0 = np.array([1/n]*n)\n",
    "    # print(\"x0\",x0)\n",
    "    res = least_squares(fun, x0, bounds=(0, 1),args=(p_bar, p_k), verbose=1)\n",
    "    alpha = res.x/sum(res.x)\n",
    "    return alpha\n",
    "\n",
    "def model(x, p_k):\n",
    "    sum = 0\n",
    "    for i in range(len(x)):\n",
    "        sum += p_k[i]*x[i]\n",
    "    return sum\n",
    "\n",
    "def fun(x,p_bar,p_k):\n",
    "    return sum((model(x, p_k) - p_bar)**2)\n",
    "\n",
    "def get_p_hat(alpha,p_k):\n",
    "    sum = 0\n",
    "    for i in range(len(alpha)):\n",
    "        sum += p_k[i]*alpha[i]\n",
    "    return sum\n",
    "\n",
    "def get_error(p_hat,Frobenius_gt):\n",
    "    delta = p_hat - p_gt\n",
    "#     print(\"delta\",delta)\n",
    "    Frobenius_delta = np.linalg.norm(delta)\n",
    "    \n",
    "#     print(\"Frobenius_gt\",Frobenius_gt)\n",
    "    error = Frobenius_delta/Frobenius_gt\n",
    "    \n",
    "    return error\n"
   ]
  },
  {
   "cell_type": "code",
   "execution_count": 14,
   "id": "142eb4ff",
   "metadata": {
    "scrolled": true
   },
   "outputs": [
    {
     "name": "stdout",
     "output_type": "stream",
     "text": [
      "p_gt [[0.12522735 0.13035353 0.07576302 0.59377121 0.07488489]\n",
      " [0.17877216 0.14981063 0.39610841 0.04970305 0.22560576]\n",
      " [0.01602496 0.35185457 0.0316275  0.22373272 0.37676025]\n",
      " [0.39387246 0.23301966 0.08361609 0.09269159 0.1968002 ]\n",
      " [0.22415402 0.20463188 0.10548116 0.20649599 0.25923695]]\n",
      "Frobenius_gt 1.2062999281936304\n"
     ]
    }
   ],
   "source": [
    "# num of states\n",
    "n = 5\n",
    "\n",
    "traj, p_gt = get_gt(n_traj=1000,n_state=n,len=3000)\n",
    "print(\"p_gt\",p_gt)\n",
    "Frobenius_gt = np.linalg.norm(p_gt)\n",
    "print(\"Frobenius_gt\",Frobenius_gt)\n",
    "p_bar = get_p_bar(traj, n_state=n) "
   ]
  },
  {
   "cell_type": "code",
   "execution_count": 16,
   "id": "a2b99682",
   "metadata": {
    "scrolled": false
   },
   "outputs": [
    {
     "name": "stdout",
     "output_type": "stream",
     "text": [
      "`ftol` termination condition is satisfied.\n",
      "Function evaluations 118, initial cost 2.5734e-02, final cost 5.6430e-03, first-order optimality 3.57e-07.\n",
      "error 0.402333423553421\n"
     ]
    },
    {
     "name": "stderr",
     "output_type": "stream",
     "text": [
      "C:\\Users\\Liuce\\AppData\\Local\\Temp/ipykernel_26264/2565222776.py:72: RuntimeWarning: invalid value encountered in true_divide\n",
      "  p[k,i,:] = p[k,i,:] / p[k,i,n_state-1]\n",
      "C:\\Users\\Liuce\\AppData\\Local\\Temp/ipykernel_26264/2565222776.py:73: RuntimeWarning: invalid value encountered in true_divide\n",
      "  p_k[k] = (p_k[k].T/p_k[k].sum(axis=1)).T\n"
     ]
    },
    {
     "ename": "TypeError",
     "evalue": "'builtin_function_or_method' object is not subscriptable",
     "output_type": "error",
     "traceback": [
      "\u001b[1;31m---------------------------------------------------------------------------\u001b[0m",
      "\u001b[1;31mTypeError\u001b[0m                                 Traceback (most recent call last)",
      "\u001b[1;32m~\\AppData\\Local\\Temp/ipykernel_26264/873755801.py\u001b[0m in \u001b[0;36m<module>\u001b[1;34m\u001b[0m\n\u001b[0;32m     10\u001b[0m     \u001b[0merror_list\u001b[0m\u001b[1;33m.\u001b[0m\u001b[0mappend\u001b[0m\u001b[1;33m(\u001b[0m\u001b[0merror\u001b[0m\u001b[1;33m)\u001b[0m\u001b[1;33m\u001b[0m\u001b[1;33m\u001b[0m\u001b[0m\n\u001b[0;32m     11\u001b[0m \u001b[1;33m\u001b[0m\u001b[0m\n\u001b[1;32m---> 12\u001b[1;33m     \u001b[0msorted_alpha\u001b[0m \u001b[1;33m=\u001b[0m \u001b[0malpha\u001b[0m\u001b[1;33m.\u001b[0m\u001b[0msort\u001b[0m\u001b[1;33m[\u001b[0m\u001b[1;33m:\u001b[0m\u001b[1;33m:\u001b[0m\u001b[1;33m-\u001b[0m\u001b[1;36m1\u001b[0m\u001b[1;33m]\u001b[0m\u001b[1;33m\u001b[0m\u001b[1;33m\u001b[0m\u001b[0m\n\u001b[0m\u001b[0;32m     13\u001b[0m     \u001b[0mplt\u001b[0m\u001b[1;33m.\u001b[0m\u001b[0mplot\u001b[0m\u001b[1;33m(\u001b[0m\u001b[0msorted_alpha\u001b[0m\u001b[1;33m)\u001b[0m\u001b[1;33m\u001b[0m\u001b[1;33m\u001b[0m\u001b[0m\n\u001b[0;32m     14\u001b[0m     \u001b[0mplt\u001b[0m\u001b[1;33m.\u001b[0m\u001b[0mylabel\u001b[0m\u001b[1;33m(\u001b[0m\u001b[1;34m\"alpha\"\u001b[0m\u001b[1;33m)\u001b[0m\u001b[1;33m\u001b[0m\u001b[1;33m\u001b[0m\u001b[0m\n",
      "\u001b[1;31mTypeError\u001b[0m: 'builtin_function_or_method' object is not subscriptable"
     ]
    }
   ],
   "source": [
    "# k_list = np.linspace(50, 200, 5, dtype=int,endpoint=True)\n",
    "k_list = [10,50,100,150,200,250,300]\n",
    "error_list = []\n",
    "for k in k_list:\n",
    "    p_k = get_p_k(n_traj=k,n_state=n)\n",
    "    alpha = get_alpha(p_bar,p_k)\n",
    "    p_hat = get_p_hat(alpha,p_k)\n",
    "    error = get_error(p_hat,Frobenius_gt)\n",
    "    print(\"error\",error)\n",
    "    error_list.append(error)\n",
    "    \n",
    "    sorted_alpha = np.sort(alpha)[::-1]\n",
    "    plt.plot(sorted_alpha)\n",
    "    plt.ylabel(\"alpha\")\n",
    "    plt.title(\"K = %i \" % k)\n",
    "    plt.show()\n",
    "    \n",
    "print(error_list)\n"
   ]
  },
  {
   "cell_type": "code",
   "execution_count": 5,
   "id": "6edddd41",
   "metadata": {},
   "outputs": [
    {
     "data": {
      "image/png": "[encoded data removed]",
      "text/plain": [
       "<Figure size 432x288 with 1 Axes>"
      ]
     },
     "metadata": {
      "needs_background": "light"
     },
     "output_type": "display_data"
    }
   ],
   "source": [
    "plt.plot(k_list,error_list)\n",
    "plt.xlabel(\"K\")\n",
    "plt.ylabel(\"error\")\n",
    "plt.title(\"%i states \" % n)\n",
    "plt.show()"
   ]
  },
  {
   "cell_type": "code",
   "execution_count": 6,
   "id": "aa5ffde7",
   "metadata": {},
   "outputs": [
    {
     "name": "stderr",
     "output_type": "stream",
     "text": [
      "C:\\Users\\Liuce\\AppData\\Local\\Temp/ipykernel_16916/1997243371.py:44: RuntimeWarning: invalid value encountered in true_divide\n",
      "  p[k,i,:] = p[k,i,:] / p[k,i,n_state-1]\n",
      "C:\\Users\\Liuce\\AppData\\Local\\Temp/ipykernel_16916/1997243371.py:45: RuntimeWarning: invalid value encountered in true_divide\n",
      "  p_k[k] = (p_k[k].T/p_k[k].sum(axis=1)).T\n"
     ]
    },
    {
     "name": "stdout",
     "output_type": "stream",
     "text": [
      "`gtol` termination condition is satisfied.\n",
      "Function evaluations 274, initial cost 2.4545e-02, final cost 2.0889e-08, first-order optimality 9.87e-09.\n",
      "error 0.0718683714543282\n"
     ]
    }
   ],
   "source": [
    "p_k = get_p_k(n_traj=800,n_state=n)\n",
    "alpha = get_alpha(p_bar,p_k)\n",
    "p_hat = get_p_hat(alpha,p_k)\n",
    "error = get_error(p_hat,Frobenius_gt)\n",
    "print(\"error\",error)"
   ]
  },
  {
   "cell_type": "code",
   "execution_count": null,
   "id": "71eade86",
   "metadata": {},
   "outputs": [],
   "source": []
  }
 ],
 "metadata": {
  "kernelspec": {
   "display_name": "Python 3 (ipykernel)",
   "language": "python",
   "name": "python3"
  },
  "language_info": {
   "codemirror_mode": {
    "name": "ipython",
    "version": 3
   },
   "file_extension": ".py",
   "mimetype": "text/x-python",
   "name": "python",
   "nbconvert_exporter": "python",
   "pygments_lexer": "ipython3",
   "version": "3.9.7"
  }
 },
 "nbformat": 4,
 "nbformat_minor": 5
}
