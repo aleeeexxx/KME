{
 "cells": [
  {
   "cell_type": "code",
   "execution_count": 1,
   "id": "62c94c67",
   "metadata": {},
   "outputs": [],
   "source": [
    "import os\n",
    "from types import FunctionType\n",
    "import numpy as np\n",
    "import pandas as pd\n",
    "import scipy.linalg\n",
    "from scipy.optimize import LinearConstraint\n",
    "from scipy.optimize import least_squares\n",
    "import matplotlib.pyplot as plt\n",
    "# import scipy.linalg.hadamard as hadamard\n"
   ]
  },
  {
   "cell_type": "code",
   "execution_count": 12,
   "id": "f41b9c5d",
   "metadata": {},
   "outputs": [],
   "source": [
    "def get_gt(n_traj=10,n_state=3,len=10):\n",
    "    p_gt = np.random.rand(n_state,n_state)       \n",
    "    p_gt = (p_gt.T/p_gt.sum(axis=1)).T\n",
    "    p_gt = np.where(np.isnan(p_gt), 0, p_gt)\n",
    "\n",
    "    p = np.zeros([n_state,n_state])\n",
    "    for i in range(n_state):\n",
    "        for j in range(n_state):\n",
    "            if j == 0:\n",
    "                p[i,j] = p_gt[i,j]\n",
    "            else:\n",
    "                p[i,j] = p[i,j-1] + p_gt[i,j]\n",
    "\n",
    "    # initial state\n",
    "    traj = np.zeros([n_traj,len])\n",
    "    for k in range(n_traj):\n",
    "        s = np.random.randint(n_state)\n",
    "        traj[k,0] = s + 1\n",
    "        for i in range(1,len):      \n",
    "            # print(\"p[k]\", p[k])\n",
    "            s = get_next_state(s,p)\n",
    "            traj[k,i] = s + 1\n",
    "            # if s != 0:\n",
    "            #     counter += 1\n",
    "    #         print(counter)\n",
    "    return traj , p_gt\n",
    "\n",
    "def get_mdp_gt(n_traj=10,n_state=3,n_action=3,len=10):\n",
    "    p_gt = np.random.rand(n_state,n_state*n_action)       \n",
    "    p_gt = (p_gt.T/p_gt.sum(axis=1)).T\n",
    "    p_gt = np.where(np.isnan(p_gt), 0, p_gt)\n",
    "\n",
    "    p = np.zeros([n_state,n_state])\n",
    "    for i in range(n_state):\n",
    "        for j in range(n_state):\n",
    "            if j == 0:\n",
    "                p[i,j] = p_gt[i,j]\n",
    "            else:\n",
    "                p[i,j] = p[i,j-1] + p_gt[i,j]\n",
    "\n",
    "    # initial state\n",
    "    traj = np.zeros([n_traj,len,2])\n",
    "    for k in range(n_traj):\n",
    "        s = np.random.randint(n_state)\n",
    "        a = np.random.randint(n_action)\n",
    "        traj[k,0] = [s + 1, a]\n",
    "        for i in range(1,len):      \n",
    "            # print(\"p[k]\", p[k])\n",
    "            s = get_next_mdp_state(s,a,p)\n",
    "            traj[k,i] = [s + 1,a]\n",
    "            # if s != 0:\n",
    "            #     counter += 1\n",
    "    #         print(counter)\n",
    "    return traj , p_gt\n",
    "\n",
    "def get_p_k(n_traj=3,n_state=3):\n",
    "    p = np.zeros([n_traj,n_state,n_state])\n",
    "    p_k = np.zeros([n_traj,n_state,n_state])    \n",
    "    for k in range(n_traj):\n",
    "        for i in range(n_state):\n",
    "            for j in range(n_state):\n",
    "                temp = np.random.rand()\n",
    "                if temp > 0.5:\n",
    "                    p_k[k,i,j] = 1\n",
    "                else:\n",
    "                    p_k[k,i,j] = 0\n",
    "                if j == 0:\n",
    "                    p[k,i,j] = p_k[k,i,j]\n",
    "                else:\n",
    "                    p[k,i,j] = p[k,i,j-1] + p_k[k,i,j]\n",
    "            p[k,i,:] = p[k,i,:] / p[k,i,n_state-1] \n",
    "        p_k[k] = (p_k[k].T/p_k[k].sum(axis=1)).T\n",
    "        p_k[k] = np.where(np.isnan(p_k[k]), 0, p_k[k])\n",
    "        # print(\"p_gt\",p_gt[k])\n",
    "    return  p_k\n",
    "\n",
    "def get_next_state(i,p):\n",
    "    prob = np.random.rand()\n",
    "    for j in range(len(p)):\n",
    "        # print(\"p[i,j]\",p[i,j])\n",
    "        if prob < p[i,j]:\n",
    "            return j\n",
    "    return j\n",
    "\n",
    "def get_next_mdp_state(i,a,p):\n",
    "    prob = np.random.rand()\n",
    "    for j in range(len(p)):\n",
    "        # print(\"p[i,j]\",p[i,j])\n",
    "        print((j-1)*3+a-1)\n",
    "        if prob < p[i,(j-1)*3+a-1]:\n",
    "            return j\n",
    "    return j\n",
    "\n",
    "def get_p_bar(traj, n_state):\n",
    "    # total = (len(traj[0])-1)\n",
    "    p_bar = np.zeros([n_state,n_state])\n",
    "    # print(\"traj[0]\",len(traj))\n",
    "    # print(\"traj[1]\",len(traj[1]))\n",
    "    for k in range(len(traj)):\n",
    "        for i in range(len(traj[1])-1):\n",
    "            p_bar[int(traj[k,i])-1,int(traj[k,i+1])-1] += 1\n",
    "    p_bar = (p_bar.T/p_bar.sum(axis=1)).T\n",
    "    p_bar = np.where(np.isnan(p_bar), 0, p_bar)\n",
    "    return p_bar\n",
    "\n",
    "def get_alpha(p_bar,p_k):\n",
    "    n = len(p_k)\n",
    "    # print(\"n\",n)\n",
    "    x0 = np.array([1/n]*n)\n",
    "    # print(\"x0\",x0)\n",
    "    res = least_squares(fun, x0, bounds=(0, 1),args=(p_bar, p_k), verbose=1)\n",
    "    alpha = res.x/sum(res.x)\n",
    "    return alpha\n",
    "\n",
    "def model(x, p_k):\n",
    "    sum = 0\n",
    "    for i in range(len(x)):\n",
    "        sum += p_k[i]*x[i]\n",
    "    return sum\n",
    "\n",
    "def fun(x,p_bar,p_k):\n",
    "    return sum((model(x, p_k) - p_bar)**2)\n",
    "\n",
    "def get_p_hat(alpha,p_k):\n",
    "    sum = 0\n",
    "    for i in range(len(alpha)):\n",
    "        sum += p_k[i]*alpha[i]\n",
    "    return sum\n",
    "\n",
    "def get_error(p_hat,Frobenius_gt):\n",
    "    delta = p_hat - p_gt\n",
    "#     print(\"delta\",delta)\n",
    "    Frobenius_delta = np.linalg.norm(delta)\n",
    "    \n",
    "#     print(\"Frobenius_gt\",Frobenius_gt)\n",
    "    error = Frobenius_delta/Frobenius_gt\n",
    "    \n",
    "    return error\n"
   ]
  },
  {
   "cell_type": "code",
   "execution_count": 18,
   "id": "142eb4ff",
   "metadata": {
    "scrolled": true
   },
   "outputs": [
    {
     "name": "stdout",
     "output_type": "stream",
     "text": [
      "p_gt [[0.12008548 0.16320237 0.04917028 0.08288324 0.00825849 0.11145572\n",
      "  0.10683663 0.15857619 0.04852511 0.1510065 ]\n",
      " [0.07369166 0.06765162 0.04602716 0.13554432 0.16243104 0.16115488\n",
      "  0.05199401 0.09259571 0.0771588  0.1317508 ]\n",
      " [0.17745117 0.03881868 0.07169188 0.06287284 0.1702025  0.06431022\n",
      "  0.12626201 0.04348679 0.11129412 0.13360979]\n",
      " [0.08862195 0.10293628 0.00260218 0.0278536  0.20898507 0.166793\n",
      "  0.11094694 0.13115507 0.02577881 0.1343271 ]\n",
      " [0.17658011 0.06808855 0.02802018 0.08089015 0.14379969 0.07965023\n",
      "  0.11081536 0.12014745 0.00130118 0.1907071 ]\n",
      " [0.0578665  0.0310856  0.18554654 0.02025391 0.23595245 0.05616358\n",
      "  0.09108936 0.0800743  0.10160827 0.14035948]\n",
      " [0.30207428 0.11759062 0.03403608 0.00255722 0.00506327 0.04743358\n",
      "  0.32494263 0.07858529 0.05313657 0.03458046]\n",
      " [0.1325708  0.16048727 0.10146831 0.05184703 0.03270962 0.05195314\n",
      "  0.15082518 0.0422703  0.19076641 0.08510195]\n",
      " [0.18868763 0.18112278 0.01428634 0.12915697 0.12879805 0.06517798\n",
      "  0.11492085 0.1102958  0.00428622 0.0632674 ]\n",
      " [0.17155603 0.12916099 0.1582896  0.06509742 0.00156105 0.05954115\n",
      "  0.02732053 0.0964687  0.1714365  0.11956803]]\n",
      "Frobenius_gt 1.1836148921213234\n"
     ]
    }
   ],
   "source": [
    "# num of states\n",
    "n = 10\n",
    "\n",
    "traj, p_gt = get_gt(n_traj=1000,n_state=n,len=3000)\n",
    "print(\"p_gt\",p_gt)\n",
    "Frobenius_gt = np.linalg.norm(p_gt)\n",
    "print(\"Frobenius_gt\",Frobenius_gt)\n",
    "p_bar = get_p_bar(traj, n_state=n) "
   ]
  },
  {
   "cell_type": "code",
   "execution_count": 19,
   "id": "a2b99682",
   "metadata": {
    "scrolled": false
   },
   "outputs": [
    {
     "name": "stdout",
     "output_type": "stream",
     "text": [
      "`ftol` termination condition is satisfied.\n",
      "Function evaluations 113, initial cost 1.8761e-02, final cost 1.3116e-02, first-order optimality 8.04e-07.\n",
      "error 0.5858943279514693\n"
     ]
    },
    {
     "data": {
      "image/png": "[encoded data removed]",
      "text/plain": [
       "<Figure size 432x288 with 1 Axes>"
      ]
     },
     "metadata": {
      "needs_background": "light"
     },
     "output_type": "display_data"
    },
    {
     "name": "stderr",
     "output_type": "stream",
     "text": [
      "C:\\Users\\Liuce\\AppData\\Local\\Temp/ipykernel_26264/2565222776.py:72: RuntimeWarning: invalid value encountered in true_divide\n",
      "  p[k,i,:] = p[k,i,:] / p[k,i,n_state-1]\n",
      "C:\\Users\\Liuce\\AppData\\Local\\Temp/ipykernel_26264/2565222776.py:73: RuntimeWarning: invalid value encountered in true_divide\n",
      "  p_k[k] = (p_k[k].T/p_k[k].sum(axis=1)).T\n"
     ]
    },
    {
     "name": "stdout",
     "output_type": "stream",
     "text": [
      "`ftol` termination condition is satisfied.\n",
      "Function evaluations 415, initial cost 1.1448e-02, final cost 4.5424e-03, first-order optimality 1.50e-07.\n",
      "error 0.4503410319018267\n"
     ]
    },
    {
     "data": {
      "image/png": "[encoded data removed]",
      "text/plain": [
       "<Figure size 432x288 with 1 Axes>"
      ]
     },
     "metadata": {
      "needs_background": "light"
     },
     "output_type": "display_data"
    },
    {
     "name": "stdout",
     "output_type": "stream",
     "text": [
      "`ftol` termination condition is satisfied.\n",
      "Function evaluations 378, initial cost 1.0741e-02, final cost 3.7729e-03, first-order optimality 1.32e-07.\n",
      "error 0.4302959529086235\n"
     ]
    },
    {
     "data": {
      "image/png": "[encoded data removed]",
      "text/plain": [
       "<Figure size 432x288 with 1 Axes>"
      ]
     },
     "metadata": {
      "needs_background": "light"
     },
     "output_type": "display_data"
    },
    {
     "name": "stderr",
     "output_type": "stream",
     "text": [
      "C:\\Users\\Liuce\\AppData\\Local\\Temp/ipykernel_26264/2565222776.py:72: RuntimeWarning: invalid value encountered in true_divide\n",
      "  p[k,i,:] = p[k,i,:] / p[k,i,n_state-1]\n",
      "C:\\Users\\Liuce\\AppData\\Local\\Temp/ipykernel_26264/2565222776.py:73: RuntimeWarning: invalid value encountered in true_divide\n",
      "  p_k[k] = (p_k[k].T/p_k[k].sum(axis=1)).T\n"
     ]
    },
    {
     "name": "stdout",
     "output_type": "stream",
     "text": [
      "`ftol` termination condition is satisfied.\n",
      "Function evaluations 511, initial cost 9.8428e-03, final cost 3.1493e-03, first-order optimality 5.73e-08.\n",
      "error 0.41854237676386286\n"
     ]
    },
    {
     "data": {
      "image/png": "[encoded data removed]",
      "text/plain": [
       "<Figure size 432x288 with 1 Axes>"
      ]
     },
     "metadata": {
      "needs_background": "light"
     },
     "output_type": "display_data"
    },
    {
     "name": "stderr",
     "output_type": "stream",
     "text": [
      "C:\\Users\\Liuce\\AppData\\Local\\Temp/ipykernel_26264/2565222776.py:72: RuntimeWarning: invalid value encountered in true_divide\n",
      "  p[k,i,:] = p[k,i,:] / p[k,i,n_state-1]\n",
      "C:\\Users\\Liuce\\AppData\\Local\\Temp/ipykernel_26264/2565222776.py:73: RuntimeWarning: invalid value encountered in true_divide\n",
      "  p_k[k] = (p_k[k].T/p_k[k].sum(axis=1)).T\n"
     ]
    },
    {
     "name": "stdout",
     "output_type": "stream",
     "text": [
      "`ftol` termination condition is satisfied.\n",
      "Function evaluations 552, initial cost 1.0759e-02, final cost 2.9784e-03, first-order optimality 9.45e-08.\n",
      "error 0.4136360790916021\n"
     ]
    },
    {
     "data": {
      "image/png": "[encoded data removed]",
      "text/plain": [
       "<Figure size 432x288 with 1 Axes>"
      ]
     },
     "metadata": {
      "needs_background": "light"
     },
     "output_type": "display_data"
    },
    {
     "name": "stderr",
     "output_type": "stream",
     "text": [
      "C:\\Users\\Liuce\\AppData\\Local\\Temp/ipykernel_26264/2565222776.py:72: RuntimeWarning: invalid value encountered in true_divide\n",
      "  p[k,i,:] = p[k,i,:] / p[k,i,n_state-1]\n",
      "C:\\Users\\Liuce\\AppData\\Local\\Temp/ipykernel_26264/2565222776.py:73: RuntimeWarning: invalid value encountered in true_divide\n",
      "  p_k[k] = (p_k[k].T/p_k[k].sum(axis=1)).T\n"
     ]
    },
    {
     "name": "stdout",
     "output_type": "stream",
     "text": [
      "`ftol` termination condition is satisfied.\n",
      "Function evaluations 859, initial cost 1.1107e-02, final cost 2.0211e-03, first-order optimality 4.55e-08.\n",
      "error 0.37479433487866354\n"
     ]
    },
    {
     "data": {
      "image/png": "[encoded data removed]",
      "text/plain": [
       "<Figure size 432x288 with 1 Axes>"
      ]
     },
     "metadata": {
      "needs_background": "light"
     },
     "output_type": "display_data"
    },
    {
     "name": "stderr",
     "output_type": "stream",
     "text": [
      "C:\\Users\\Liuce\\AppData\\Local\\Temp/ipykernel_26264/2565222776.py:72: RuntimeWarning: invalid value encountered in true_divide\n",
      "  p[k,i,:] = p[k,i,:] / p[k,i,n_state-1]\n",
      "C:\\Users\\Liuce\\AppData\\Local\\Temp/ipykernel_26264/2565222776.py:73: RuntimeWarning: invalid value encountered in true_divide\n",
      "  p_k[k] = (p_k[k].T/p_k[k].sum(axis=1)).T\n"
     ]
    },
    {
     "name": "stdout",
     "output_type": "stream",
     "text": [
      "`ftol` termination condition is satisfied.\n",
      "Function evaluations 910, initial cost 1.1685e-02, final cost 2.4018e-03, first-order optimality 6.91e-08.\n",
      "error 0.3855847754268328\n"
     ]
    },
    {
     "data": {
      "image/png": "[encoded data removed]",
      "text/plain": [
       "<Figure size 432x288 with 1 Axes>"
      ]
     },
     "metadata": {
      "needs_background": "light"
     },
     "output_type": "display_data"
    },
    {
     "name": "stdout",
     "output_type": "stream",
     "text": [
      "[0.5858943279514693, 0.4503410319018267, 0.4302959529086235, 0.41854237676386286, 0.4136360790916021, 0.37479433487866354, 0.3855847754268328]\n"
     ]
    }
   ],
   "source": [
    "# k_list = np.linspace(50, 200, 5, dtype=int,endpoint=True)\n",
    "k_list = [10,50,100,150,200,250,300]\n",
    "error_list = []\n",
    "for k in k_list:\n",
    "    p_k = get_p_k(n_traj=k,n_state=n)\n",
    "    alpha = get_alpha(p_bar,p_k)\n",
    "    p_hat = get_p_hat(alpha,p_k)\n",
    "    error = get_error(p_hat,Frobenius_gt)\n",
    "    print(\"error\",error)\n",
    "    error_list.append(error)\n",
    "    \n",
    "    sorted_alpha = np.sort(alpha)[::-1]\n",
    "    plt.plot(sorted_alpha)\n",
    "    plt.ylabel(\"alpha\")\n",
    "    plt.title(\"K = %i \" % k)\n",
    "    plt.show()\n",
    "    \n",
    "print(error_list)\n"
   ]
  },
  {
   "cell_type": "code",
   "execution_count": 20,
   "id": "6edddd41",
   "metadata": {},
   "outputs": [
    {
     "data": {
      "image/png": "[encoded data removed]",
      "text/plain": [
       "<Figure size 432x288 with 1 Axes>"
      ]
     },
     "metadata": {
      "needs_background": "light"
     },
     "output_type": "display_data"
    }
   ],
   "source": [
    "plt.plot(k_list,error_list)\n",
    "plt.xlabel(\"K\")\n",
    "plt.ylabel(\"error\")\n",
    "plt.title(\"%i states \" % n)\n",
    "plt.show()"
   ]
  },
  {
   "cell_type": "code",
   "execution_count": 6,
   "id": "aa5ffde7",
   "metadata": {},
   "outputs": [
    {
     "name": "stderr",
     "output_type": "stream",
     "text": [
      "C:\\Users\\Liuce\\AppData\\Local\\Temp/ipykernel_16916/1997243371.py:44: RuntimeWarning: invalid value encountered in true_divide\n",
      "  p[k,i,:] = p[k,i,:] / p[k,i,n_state-1]\n",
      "C:\\Users\\Liuce\\AppData\\Local\\Temp/ipykernel_16916/1997243371.py:45: RuntimeWarning: invalid value encountered in true_divide\n",
      "  p_k[k] = (p_k[k].T/p_k[k].sum(axis=1)).T\n"
     ]
    },
    {
     "name": "stdout",
     "output_type": "stream",
     "text": [
      "`gtol` termination condition is satisfied.\n",
      "Function evaluations 274, initial cost 2.4545e-02, final cost 2.0889e-08, first-order optimality 9.87e-09.\n",
      "error 0.0718683714543282\n"
     ]
    }
   ],
   "source": [
    "p_k = get_p_k(n_traj=800,n_state=n)\n",
    "alpha = get_alpha(p_bar,p_k)\n",
    "p_hat = get_p_hat(alpha,p_k)\n",
    "error = get_error(p_hat,Frobenius_gt)\n",
    "print(\"error\",error)"
   ]
  },
  {
   "cell_type": "code",
   "execution_count": null,
   "id": "71eade86",
   "metadata": {},
   "outputs": [],
   "source": []
  }
 ],
 "metadata": {
  "kernelspec": {
   "display_name": "Python 3 (ipykernel)",
   "language": "python",
   "name": "python3"
  },
  "language_info": {
   "codemirror_mode": {
    "name": "ipython",
    "version": 3
   },
   "file_extension": ".py",
   "mimetype": "text/x-python",
   "name": "python",
   "nbconvert_exporter": "python",
   "pygments_lexer": "ipython3",
   "version": "3.9.7"
  }
 },
 "nbformat": 4,
 "nbformat_minor": 5
}
